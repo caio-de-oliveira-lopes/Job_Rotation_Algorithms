{
 "cells": [
  {
   "cell_type": "code",
   "execution_count": null,
   "id": "e71f6e8f",
   "metadata": {},
   "outputs": [],
   "source": [
    "\"output-1_hes-c98-BorbaRittModel-NoExtraConstraint-2.json\"\n",
    "instanceFamilies = dict #dicionario pras familias\n",
    "cycleTimes = dict #dicionário para os tempos de ciclo das instancias (ainda deve multiplicar pelos valores)\n",
    "multipliers = [1.05, 1.10, 1.25, 1.5]\n",
    "models = [\"BorbaRittModel\", \"CostaMirallesModel\"]\n",
    "constraintCases = [\"NoExtraConstraint\"]\n",
    "numberOfPeriods = 2\n",
    "\n",
    "for model in models:\n",
    "    for familyData in instanceFamilies.data:\n",
    "        family = familyData.key\n",
    "        for instance in familyData.values:\n",
    "            originalCycleTime = cycleTimes[instance]\n",
    "            for multiplier in multipliers:\n",
    "                cycleTime = originalCycleTime * multiplier\n",
    "                for constraintCase in constraintCases:\n",
    "                    output = f\"output-{instance}-c{cycleTime}-{model}-{constraintCase}-{numberOfPeriods}.json\""
   ]
  }
 ],
 "metadata": {
  "kernelspec": {
   "display_name": "Python 3 (ipykernel)",
   "language": "python",
   "name": "python3"
  },
  "language_info": {
   "codemirror_mode": {
    "name": "ipython",
    "version": 3
   },
   "file_extension": ".py",
   "mimetype": "text/x-python",
   "name": "python",
   "nbconvert_exporter": "python",
   "pygments_lexer": "ipython3",
   "version": "3.10.4"
  }
 },
 "nbformat": 4,
 "nbformat_minor": 5
}
